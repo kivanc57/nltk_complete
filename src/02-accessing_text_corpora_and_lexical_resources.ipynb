{
 "cells": [
  {
   "cell_type": "markdown",
   "metadata": {},
   "source": [
    "# 02 - Accessing Text Corpora and Lexical Resources"
   ]
  },
  {
   "cell_type": "markdown",
   "metadata": {},
   "source": [
    "Resource: https://www.nltk.org/book/ch02.html"
   ]
  },
  {
   "cell_type": "markdown",
   "metadata": {},
   "source": [
    "#### Table of Content\n",
    "1. Accessing Text Corpora\n",
    "\n",
    "2. Conditional Frequency Distributions\n",
    "\n",
    "3. More Python: Reusing Code\n",
    "\n",
    "4. Lexical Resources\n",
    "\n",
    "5. WordNet"
   ]
  },
  {
   "cell_type": "code",
   "execution_count": 1,
   "metadata": {},
   "outputs": [],
   "source": [
    "import nltk"
   ]
  },
  {
   "cell_type": "code",
   "execution_count": 2,
   "metadata": {},
   "outputs": [],
   "source": [
    "from nltk.corpus import gutenberg"
   ]
  },
  {
   "cell_type": "code",
   "execution_count": 3,
   "metadata": {},
   "outputs": [
    {
     "data": {
      "text/plain": [
       "['austen-emma.txt',\n",
       " 'austen-persuasion.txt',\n",
       " 'austen-sense.txt',\n",
       " 'bible-kjv.txt',\n",
       " 'blake-poems.txt',\n",
       " 'bryant-stories.txt',\n",
       " 'burgess-busterbrown.txt',\n",
       " 'carroll-alice.txt',\n",
       " 'chesterton-ball.txt',\n",
       " 'chesterton-brown.txt',\n",
       " 'chesterton-thursday.txt',\n",
       " 'edgeworth-parents.txt',\n",
       " 'melville-moby_dick.txt',\n",
       " 'milton-paradise.txt',\n",
       " 'shakespeare-caesar.txt',\n",
       " 'shakespeare-hamlet.txt',\n",
       " 'shakespeare-macbeth.txt',\n",
       " 'whitman-leaves.txt']"
      ]
     },
     "execution_count": 3,
     "metadata": {},
     "output_type": "execute_result"
    }
   ],
   "source": [
    "gutenberg.fileids()"
   ]
  },
  {
   "cell_type": "code",
   "execution_count": 4,
   "metadata": {},
   "outputs": [
    {
     "data": {
      "text/plain": [
       "192427"
      ]
     },
     "execution_count": 4,
     "metadata": {},
     "output_type": "execute_result"
    }
   ],
   "source": [
    "emma = gutenberg.words('austen-emma.txt')\n",
    "len(emma)"
   ]
  },
  {
   "cell_type": "code",
   "execution_count": 5,
   "metadata": {},
   "outputs": [
    {
     "name": "stdout",
     "output_type": "stream",
     "text": [
      "\n",
      "        -----Statistics of: 'austen-emma.txt'-----\n",
      "        Average Word Length:                 5\n",
      "        Average Sentence Length:             25\n",
      "        Lexical Diversity Score (TTR-ratio): 26\n",
      "\n",
      "        \n",
      "\n",
      "        -----Statistics of: 'austen-persuasion.txt'-----\n",
      "        Average Word Length:                 5\n",
      "        Average Sentence Length:             26\n",
      "        Lexical Diversity Score (TTR-ratio): 17\n",
      "\n",
      "        \n",
      "\n",
      "        -----Statistics of: 'austen-sense.txt'-----\n",
      "        Average Word Length:                 5\n",
      "        Average Sentence Length:             28\n",
      "        Lexical Diversity Score (TTR-ratio): 22\n",
      "\n",
      "        \n",
      "\n",
      "        -----Statistics of: 'bible-kjv.txt'-----\n",
      "        Average Word Length:                 4\n",
      "        Average Sentence Length:             34\n",
      "        Lexical Diversity Score (TTR-ratio): 79\n",
      "\n",
      "        \n",
      "\n",
      "        -----Statistics of: 'blake-poems.txt'-----\n",
      "        Average Word Length:                 5\n",
      "        Average Sentence Length:             19\n",
      "        Lexical Diversity Score (TTR-ratio): 5\n",
      "\n",
      "        \n",
      "\n",
      "        -----Statistics of: 'bryant-stories.txt'-----\n",
      "        Average Word Length:                 4\n",
      "        Average Sentence Length:             19\n",
      "        Lexical Diversity Score (TTR-ratio): 14\n",
      "\n",
      "        \n",
      "\n",
      "        -----Statistics of: 'burgess-busterbrown.txt'-----\n",
      "        Average Word Length:                 4\n",
      "        Average Sentence Length:             18\n",
      "        Lexical Diversity Score (TTR-ratio): 12\n",
      "\n",
      "        \n",
      "\n",
      "        -----Statistics of: 'carroll-alice.txt'-----\n",
      "        Average Word Length:                 4\n",
      "        Average Sentence Length:             20\n",
      "        Lexical Diversity Score (TTR-ratio): 13\n",
      "\n",
      "        \n",
      "\n",
      "        -----Statistics of: 'chesterton-ball.txt'-----\n",
      "        Average Word Length:                 5\n",
      "        Average Sentence Length:             20\n",
      "        Lexical Diversity Score (TTR-ratio): 12\n",
      "\n",
      "        \n",
      "\n",
      "        -----Statistics of: 'chesterton-brown.txt'-----\n",
      "        Average Word Length:                 5\n",
      "        Average Sentence Length:             23\n",
      "        Lexical Diversity Score (TTR-ratio): 11\n",
      "\n",
      "        \n",
      "\n",
      "        -----Statistics of: 'chesterton-thursday.txt'-----\n",
      "        Average Word Length:                 5\n",
      "        Average Sentence Length:             18\n",
      "        Lexical Diversity Score (TTR-ratio): 11\n",
      "\n",
      "        \n",
      "\n",
      "        -----Statistics of: 'edgeworth-parents.txt'-----\n",
      "        Average Word Length:                 4\n",
      "        Average Sentence Length:             21\n",
      "        Lexical Diversity Score (TTR-ratio): 25\n",
      "\n",
      "        \n",
      "\n",
      "        -----Statistics of: 'melville-moby_dick.txt'-----\n",
      "        Average Word Length:                 5\n",
      "        Average Sentence Length:             26\n",
      "        Lexical Diversity Score (TTR-ratio): 15\n",
      "\n",
      "        \n",
      "\n",
      "        -----Statistics of: 'milton-paradise.txt'-----\n",
      "        Average Word Length:                 5\n",
      "        Average Sentence Length:             52\n",
      "        Lexical Diversity Score (TTR-ratio): 11\n",
      "\n",
      "        \n",
      "\n",
      "        -----Statistics of: 'shakespeare-caesar.txt'-----\n",
      "        Average Word Length:                 4\n",
      "        Average Sentence Length:             12\n",
      "        Lexical Diversity Score (TTR-ratio): 9\n",
      "\n",
      "        \n",
      "\n",
      "        -----Statistics of: 'shakespeare-hamlet.txt'-----\n",
      "        Average Word Length:                 4\n",
      "        Average Sentence Length:             12\n",
      "        Lexical Diversity Score (TTR-ratio): 8\n",
      "\n",
      "        \n",
      "\n",
      "        -----Statistics of: 'shakespeare-macbeth.txt'-----\n",
      "        Average Word Length:                 4\n",
      "        Average Sentence Length:             12\n",
      "        Lexical Diversity Score (TTR-ratio): 7\n",
      "\n",
      "        \n",
      "\n",
      "        -----Statistics of: 'whitman-leaves.txt'-----\n",
      "        Average Word Length:                 5\n",
      "        Average Sentence Length:             36\n",
      "        Lexical Diversity Score (TTR-ratio): 12\n",
      "\n",
      "        \n"
     ]
    }
   ],
   "source": [
    "from nltk.corpus import gutenberg\n",
    "\n",
    "# Iterate through all files in the Gutenberg corpus\n",
    "for fileid in gutenberg.fileids():\n",
    "    # Compute basic statistics\n",
    "    num_chars = len(gutenberg.raw(fileid))\n",
    "    num_words = len(gutenberg.words(fileid))\n",
    "    num_sents = len(gutenberg.sents(fileid))\n",
    "    num_vocab = len(set(w.lower() for w in gutenberg.words(fileid)))\n",
    "\n",
    "    # Print statistics for the current file\n",
    "    print(\n",
    "        f\"\"\"\n",
    "        -----Statistics of: '{fileid}'-----\n",
    "        Average Word Length:                 {round(num_chars / num_words)}\n",
    "        Average Sentence Length:             {round(num_words / num_sents)}\n",
    "        Lexical Diversity Score (TTR-ratio): {round(num_words / num_vocab)}\\n\n",
    "        \"\"\"\n",
    "    )\n"
   ]
  },
  {
   "cell_type": "code",
   "execution_count": 6,
   "metadata": {},
   "outputs": [
    {
     "data": {
      "text/plain": [
       "[['[', 'The', 'Tragedie', 'of', 'Macbeth', 'by', 'William', 'Shakespeare', '1603', ']'], ['Actus', 'Primus', '.'], ...]"
      ]
     },
     "execution_count": 6,
     "metadata": {},
     "output_type": "execute_result"
    }
   ],
   "source": [
    "macbeth_sentences = gutenberg.sents('shakespeare-macbeth.txt')\n",
    "macbeth_sentences"
   ]
  },
  {
   "cell_type": "code",
   "execution_count": 151,
   "metadata": {},
   "outputs": [
    {
     "data": {
      "text/plain": [
       "['This',\n",
       " 'is',\n",
       " 'the',\n",
       " 'Serieant',\n",
       " ',',\n",
       " 'Who',\n",
       " 'like',\n",
       " 'a',\n",
       " 'good',\n",
       " 'and',\n",
       " 'hardie',\n",
       " 'Souldier',\n",
       " 'fought']"
      ]
     },
     "execution_count": 151,
     "metadata": {},
     "output_type": "execute_result"
    }
   ],
   "source": [
    "macbeth_sentences[30][:13]"
   ]
  },
  {
   "cell_type": "code",
   "execution_count": 152,
   "metadata": {},
   "outputs": [],
   "source": [
    "# Assuming macbeth_sentences is a list of sentences\n",
    "longest_sentence = max(macbeth_sentences, key=len)  # Get the longest sentence\n",
    "\n",
    "i = 0\n",
    "while i < 10:\n",
    "    if len(macbeth_sentences[i]) == len(longest_sentence):  # Compare length to longest sentence\n",
    "        print(macbeth_sentences[i])\n",
    "    i += 1"
   ]
  },
  {
   "cell_type": "code",
   "execution_count": 9,
   "metadata": {},
   "outputs": [
    {
     "name": "stdout",
     "output_type": "stream",
     "text": [
      "firefox.txt Cookie Manager: \"Don't allow sites that set removed cookies to se ...\n",
      "grail.txt SCENE 1: [wind] [clop clop clop] \n",
      "KING ARTHUR: Whoa there!  [clop ...\n",
      "overheard.txt White guy: So, do you have any plans for this evening?\n",
      "Asian girl ...\n",
      "pirates.txt PIRATES OF THE CARRIBEAN: DEAD MAN'S CHEST, by Ted Elliott & Terr ...\n",
      "singles.txt 25 SEXY MALE, seeks attrac older single lady, for discreet encoun ...\n",
      "wine.txt Lovely delicate, fragrant Rhone wine. Polished leather and strawb ...\n"
     ]
    }
   ],
   "source": [
    "from nltk.corpus import webtext\n",
    "for fileid in webtext.fileids():\n",
    "  print(fileid, webtext.raw(fileid)[:65], '...')"
   ]
  },
  {
   "cell_type": "code",
   "execution_count": 10,
   "metadata": {},
   "outputs": [
    {
     "data": {
      "text/plain": [
       "['i',\n",
       " 'do',\n",
       " \"n't\",\n",
       " 'want',\n",
       " 'hot',\n",
       " 'pics',\n",
       " 'of',\n",
       " 'a',\n",
       " 'female',\n",
       " ',',\n",
       " 'I',\n",
       " 'can',\n",
       " 'look',\n",
       " 'in',\n",
       " 'a',\n",
       " 'mirror',\n",
       " '.']"
      ]
     },
     "execution_count": 10,
     "metadata": {},
     "output_type": "execute_result"
    }
   ],
   "source": [
    "from nltk.corpus import nps_chat\n",
    "chatroom = nps_chat.posts('10-19-20s_706posts.xml')\n",
    "chatroom[123]"
   ]
  },
  {
   "cell_type": "markdown",
   "metadata": {},
   "source": [
    "##### Example Document for Each Section of the Brown Corpus\n",
    "\n",
    "|ID |File|Genre|Description|\n",
    "|:-:|:--:|:---:|:---------:|\n",
    "|A16|ca16|news|Chicago Tribune: Society Reportage|\n",
    "|B02|cb02|editorial|Christian Science Monitor: Editorials|\n",
    "|C17|cc17|reviews|Time Magazine: Reviews|\n",
    "|D12|cd12|religion|Underwood: Probing the Ethics of Realtors|\n",
    "|E36|ce36|hobbies|Norling: Renting a Car in Europe|\n",
    "|F25|cf25|lore|Boroff: Jewish Teenage Culture|\n",
    "|G22|cg22|belles_lettres|Reiner: Coping with Runaway Technology|\n",
    "|H15|ch15|government|US Office of Civil and Defence Mobilization: The Family Fallout Shelter|\n",
    "|J17|cj19|learned|Mosteller: Probability with Statistical Applications|\n",
    "|K04|ck04|fiction|W.E.B. Du Bois: Worlds of Color|\n",
    "|L13|cl13|mystery|Hitchens: Footsteps in the Night|\n",
    "|M01|cm01|science_fiction|Heinlein: Stranger in a Strange Land|\n",
    "|N14|cn15|adventure|Field: Rattlesnake Ridge|\n",
    "|P12|cp12|romance|Callaghan: A Passion in Rome|\n",
    "|R06|cr06|humor|Thurber: The Future, If Any, of Comedy|"
   ]
  },
  {
   "cell_type": "code",
   "execution_count": 11,
   "metadata": {},
   "outputs": [
    {
     "data": {
      "text/plain": [
       "['adventure',\n",
       " 'belles_lettres',\n",
       " 'editorial',\n",
       " 'fiction',\n",
       " 'government',\n",
       " 'hobbies',\n",
       " 'humor',\n",
       " 'learned',\n",
       " 'lore',\n",
       " 'mystery',\n",
       " 'news',\n",
       " 'religion',\n",
       " 'reviews',\n",
       " 'romance',\n",
       " 'science_fiction']"
      ]
     },
     "execution_count": 11,
     "metadata": {},
     "output_type": "execute_result"
    }
   ],
   "source": [
    "from nltk.corpus import brown\n",
    "brown.categories()"
   ]
  },
  {
   "cell_type": "code",
   "execution_count": 12,
   "metadata": {},
   "outputs": [
    {
     "data": {
      "text/plain": [
       "['The', 'Fulton', 'County', 'Grand', 'Jury', 'said', ...]"
      ]
     },
     "execution_count": 12,
     "metadata": {},
     "output_type": "execute_result"
    }
   ],
   "source": [
    "brown.words(categories='news')"
   ]
  },
  {
   "cell_type": "code",
   "execution_count": 13,
   "metadata": {},
   "outputs": [
    {
     "data": {
      "text/plain": [
       "['Does', 'our', 'society', 'have', 'a', 'runaway', ',', ...]"
      ]
     },
     "execution_count": 13,
     "metadata": {},
     "output_type": "execute_result"
    }
   ],
   "source": [
    "brown.words(fileids=['cg22'])"
   ]
  },
  {
   "cell_type": "code",
   "execution_count": 101,
   "metadata": {},
   "outputs": [
    {
     "data": {
      "text/plain": [
       "[['The', 'Fulton', 'County', 'Grand', 'Jury', 'said', 'Friday', 'an', 'investigation', 'of', \"Atlanta's\", 'recent', 'primary', 'election', 'produced', '``', 'no', 'evidence', \"''\", 'that', 'any', 'irregularities', 'took', 'place', '.'], ['The', 'jury', 'further', 'said', 'in', 'term-end', 'presentments', 'that', 'the', 'City', 'Executive', 'Committee', ',', 'which', 'had', 'over-all', 'charge', 'of', 'the', 'election', ',', '``', 'deserves', 'the', 'praise', 'and', 'thanks', 'of', 'the', 'City', 'of', 'Atlanta', \"''\", 'for', 'the', 'manner', 'in', 'which', 'the', 'election', 'was', 'conducted', '.'], ...]"
      ]
     },
     "execution_count": 101,
     "metadata": {},
     "output_type": "execute_result"
    }
   ],
   "source": [
    "brown.sents(categories=['news', 'editorial', 'reviews'])"
   ]
  },
  {
   "cell_type": "code",
   "execution_count": 15,
   "metadata": {},
   "outputs": [
    {
     "name": "stdout",
     "output_type": "stream",
     "text": [
      "can: 94\n",
      "could: 87\n",
      "may: 93\n",
      "might: 38\n",
      "may: 93\n",
      "must: 53\n",
      "will: 389\n"
     ]
    }
   ],
   "source": [
    "from nltk.corpus import brown\n",
    "news_text = brown.words(categories='news')\n",
    "fdist = nltk.FreqDist(w.lower() for w in news_text)\n",
    "modals = ['can', 'could', 'may', 'might', 'may', 'must', 'will']\n",
    "for m in modals:\n",
    "  print(m + ':', fdist[m], end='\\n')"
   ]
  },
  {
   "cell_type": "code",
   "execution_count": 16,
   "metadata": {},
   "outputs": [
    {
     "name": "stdout",
     "output_type": "stream",
     "text": [
      "                  can could   may might  must  will \n",
      "           news    93    86    66    38    50   389 \n",
      "       religion    82    59    78    12    54    71 \n",
      "        hobbies   268    58   131    22    83   264 \n",
      "science_fiction    16    49     4    12     8    16 \n",
      "        romance    74   193    11    51    45    43 \n",
      "          humor    16    30     8     8     9    13 \n"
     ]
    }
   ],
   "source": [
    "cfd = nltk.ConditionalFreqDist(\n",
    "  (genre, word)\n",
    "  for genre in brown.categories()\n",
    "  for word in brown.words(categories=genre)\n",
    ")\n",
    "genres = ['news', 'religion', 'hobbies', 'science_fiction', 'romance', 'humor']\n",
    "modals = ['can', 'could', 'may', 'might', 'must', 'will']\n",
    "cfd.tabulate(conditions=genres, samples=modals)"
   ]
  },
  {
   "cell_type": "code",
   "execution_count": 97,
   "metadata": {},
   "outputs": [
    {
     "name": "stdout",
     "output_type": "stream",
     "text": [
      "File IDs\n",
      " ['test/14826', 'test/14828', 'test/14829', 'test/14832', 'test/14833', 'test/14839', 'test/14840', 'test/14841', 'test/14842', 'test/14843']\n",
      "Caregories\n",
      " ['acq', 'alum', 'barley', 'bop', 'carcass', 'castor-oil', 'cocoa', 'coconut', 'coconut-oil', 'coffee']\n"
     ]
    }
   ],
   "source": [
    "from nltk.corpus import reuters\n",
    "print(\"File IDs\\n\", reuters.fileids()[:10])\n",
    "print(\"Caregories\\n\", reuters.categories()[:10])"
   ]
  },
  {
   "cell_type": "code",
   "execution_count": 94,
   "metadata": {},
   "outputs": [
    {
     "data": {
      "text/plain": [
       "['test/14832',\n",
       " 'test/14858',\n",
       " 'test/15033',\n",
       " 'test/15043',\n",
       " 'test/15106',\n",
       " 'test/15287',\n",
       " 'test/15341',\n",
       " 'test/15618',\n",
       " 'test/15648',\n",
       " 'test/15649']"
      ]
     },
     "execution_count": 94,
     "metadata": {},
     "output_type": "execute_result"
    }
   ],
   "source": [
    "reuters.categories('training/9865')\n",
    "reuters.categories(['training/9865', 'training/9880'])\n",
    "reuters.fileids('barley')\n",
    "reuters.fileids(['barley', 'corn'])[:10]"
   ]
  },
  {
   "cell_type": "code",
   "execution_count": 95,
   "metadata": {},
   "outputs": [
    {
     "data": {
      "text/plain": [
       "['-Washington.txt',\n",
       " '-Washington.txt',\n",
       " '-Adams.txt',\n",
       " '-Jefferson.txt',\n",
       " '-Jefferson.txt',\n",
       " '-Madison.txt',\n",
       " '-Madison.txt',\n",
       " '-Monroe.txt',\n",
       " '-Monroe.txt',\n",
       " '-Adams.txt']"
      ]
     },
     "execution_count": 95,
     "metadata": {},
     "output_type": "execute_result"
    }
   ],
   "source": [
    "from nltk.corpus import inaugural\n",
    "inaugural.fileids()\n",
    "[fileid[4:] for fileid in inaugural.fileids()][:10]"
   ]
  },
  {
   "cell_type": "code",
   "execution_count": 20,
   "metadata": {},
   "outputs": [
    {
     "data": {
      "text/plain": [
       "<Axes: xlabel='Samples', ylabel='Counts'>"
      ]
     },
     "execution_count": 20,
     "metadata": {},
     "output_type": "execute_result"
    },
    {
     "data": {
      "image/png": "[encoded data removed]",
      "text/plain": [
       "<Figure size 640x480 with 1 Axes>"
      ]
     },
     "metadata": {},
     "output_type": "display_data"
    }
   ],
   "source": [
    "from nltk.corpus import inaugural\n",
    "cfd = nltk.ConditionalFreqDist(\n",
    "  (target, fileid[:4])\n",
    "  for fileid in inaugural.fileids()\n",
    "  for w in inaugural.words(fileid)\n",
    "  for target in ['america', 'citizen']\n",
    "  if w.lower().startswith(target)\n",
    ")\n",
    "cfd.plot()"
   ]
  },
  {
   "cell_type": "code",
   "execution_count": 21,
   "metadata": {},
   "outputs": [
    {
     "data": {
      "text/plain": [
       "<Axes: xlabel='Samples', ylabel='Cumulative Counts'>"
      ]
     },
     "execution_count": 21,
     "metadata": {},
     "output_type": "execute_result"
    },
    {
     "data": {
      "image/png": "[encoded data removed]",
      "text/plain": [
       "<Figure size 640x480 with 1 Axes>"
      ]
     },
     "metadata": {},
     "output_type": "display_data"
    }
   ],
   "source": [
    "from nltk.corpus import udhr\n",
    "languages = ['Afrikaans', 'Basque_Euskara', 'English', 'Faroese',\n",
    "             'Icelandic_Yslenska', 'Welsh_Cymraeg', 'Zulu', 'Greenlandic_Inuktikut']\n",
    "cfd = nltk.ConditionalFreqDist(\n",
    "           (lang, len(word))\n",
    "           for lang in languages\n",
    "           for word in udhr.words(lang + '-Latin1'))\n",
    "cfd.plot(cumulative=True)"
   ]
  },
  {
   "cell_type": "code",
   "execution_count": 109,
   "metadata": {},
   "outputs": [
    {
     "data": {
      "text/plain": [
       "['Abkhaz-Cyrillic+Abkh',\n",
       " 'Amahuaca',\n",
       " 'Aymara-Latin1',\n",
       " 'Beti-UTF8',\n",
       " 'Bulgarian_Balgarski-UTF8',\n",
       " 'Chamorro-Latin1',\n",
       " 'Croatian_Hrvatski-Latin2',\n",
       " 'Ditammari-UTF8',\n",
       " 'Farsi_Persian-v2-UTF8',\n",
       " 'Galician_Galego-Latin1']"
      ]
     },
     "execution_count": 109,
     "metadata": {},
     "output_type": "execute_result"
    }
   ],
   "source": [
    "udhr.fileids()[:100:10]\n",
    "#nltk.corpus.{language}.words() // Extract language for udhr"
   ]
  },
  {
   "cell_type": "markdown",
   "metadata": {},
   "source": [
    "#### Corpus Functions\n",
    "|Example|Description|\n",
    "|:-----|:----------|\n",
    "|fileids()|the files of the corpus|\n",
    "|fileids([categories])|the files of the corpus corresponding to these categories|\n",
    "|categories()|the categories of the corpus|\n",
    "|categories([fileids])|the categories of the corpus corresponding to these files|\n",
    "|raw()|the raw content of the corpus|\n",
    "|raw(fileids=[f1,f2,f3])|the raw content of the specified files|\n",
    "|raw(categories=[c1,c2])|the raw content of the specified categories|\n",
    "|words()|the words of the whole corpus|\n",
    "|words(fileids=[f1,f2,f3])|the words of the specified fileids|\n",
    "|words(categories=[c1,c2])|the words of the specified categories|\n",
    "|sents()|the sentences of the whole corpus|\n",
    "|sents(fileids=[f1,f2,f3])|the sentences of the specified fileids|\n",
    "|sents(categories=[c1,c2])|the sentences of the specified categories|\n",
    "|abspath(fileid)|the location of the given file on disk|\n",
    "|encoding(fileid)|the encoding of the file (if known)|\n",
    "|open(fileid)|open a stream for reading the given corpus file|\n",
    "|root|if the path to the root of locally installed corpus|\n",
    "|readme()|the contents of the README file of the corpus|"
   ]
  },
  {
   "cell_type": "code",
   "execution_count": 154,
   "metadata": {},
   "outputs": [
    {
     "data": {
      "text/plain": [
       "['\"',\n",
       " 'I',\n",
       " \"'\",\n",
       " 'm',\n",
       " 'going',\n",
       " 'fishing',\n",
       " ',\"',\n",
       " 'said',\n",
       " 'he',\n",
       " 'in',\n",
       " 'his',\n",
       " 'deep',\n",
       " 'grumbly',\n",
       " '-',\n",
       " 'rumbly',\n",
       " 'voice',\n",
       " 'to',\n",
       " 'no',\n",
       " 'one',\n",
       " 'in',\n",
       " 'particular',\n",
       " '.']"
      ]
     },
     "execution_count": 154,
     "metadata": {},
     "output_type": "execute_result"
    }
   ],
   "source": [
    "text = 'burgess-busterbrown.txt'\n",
    "raw = gutenberg.raw(text)\n",
    "raw[1:20]\n",
    "\n",
    "words = gutenberg.words(text)\n",
    "words[1:20]\n",
    "\n",
    "sents = gutenberg.sents(text)\n",
    "sents[20]"
   ]
  },
  {
   "cell_type": "code",
   "execution_count": 24,
   "metadata": {},
   "outputs": [
    {
     "name": "stdout",
     "output_type": "stream",
     "text": [
      "Word amount of News and Romance: 170576\n"
     ]
    }
   ],
   "source": [
    "from nltk.corpus import brown\n",
    "genre_word = [(genre, word)\n",
    "              for genre in ['news', 'romance']\n",
    "              for word in brown.words(categories=genre)]\n",
    "\n",
    "print('Word amount of News and Romance:', len(genre_word))"
   ]
  },
  {
   "cell_type": "code",
   "execution_count": 25,
   "metadata": {},
   "outputs": [
    {
     "data": {
      "text/plain": [
       "[('news', 'The'), ('news', 'Fulton'), ('news', 'County'), ('news', 'Grand')]"
      ]
     },
     "execution_count": 25,
     "metadata": {},
     "output_type": "execute_result"
    }
   ],
   "source": [
    "genre_word[:4]"
   ]
  },
  {
   "cell_type": "code",
   "execution_count": 26,
   "metadata": {},
   "outputs": [
    {
     "data": {
      "text/plain": [
       "[('romance', 'afraid'),\n",
       " ('romance', 'not'),\n",
       " ('romance', \"''\"),\n",
       " ('romance', '.')]"
      ]
     },
     "execution_count": 26,
     "metadata": {},
     "output_type": "execute_result"
    }
   ],
   "source": [
    "genre_word[-4:]"
   ]
  },
  {
   "cell_type": "code",
   "execution_count": 27,
   "metadata": {},
   "outputs": [
    {
     "data": {
      "text/plain": [
       "['news', 'romance']"
      ]
     },
     "execution_count": 27,
     "metadata": {},
     "output_type": "execute_result"
    }
   ],
   "source": [
    "cfd = nltk.ConditionalFreqDist(genre_word)\n",
    "cfd\n",
    "cfd.conditions()"
   ]
  },
  {
   "cell_type": "code",
   "execution_count": 28,
   "metadata": {},
   "outputs": [
    {
     "data": {
      "text/plain": [
       "193"
      ]
     },
     "execution_count": 28,
     "metadata": {},
     "output_type": "execute_result"
    }
   ],
   "source": [
    "cfd['romance'].most_common(20)\n",
    "cfd['romance']['could']"
   ]
  },
  {
   "cell_type": "code",
   "execution_count": 29,
   "metadata": {},
   "outputs": [
    {
     "data": {
      "text/plain": [
       "[('In', 'the'),\n",
       " ('the', 'beginning'),\n",
       " ('beginning', 'God'),\n",
       " ('God', 'created'),\n",
       " ('created', 'the'),\n",
       " ('the', 'heaven'),\n",
       " ('heaven', 'and'),\n",
       " ('and', 'the'),\n",
       " ('the', 'earth'),\n",
       " ('earth', '.')]"
      ]
     },
     "execution_count": 29,
     "metadata": {},
     "output_type": "execute_result"
    }
   ],
   "source": [
    "sent = ['In', 'the', 'beginning', 'God', 'created', 'the', 'heaven', 'and', 'the', 'earth', '.']\n",
    "list(nltk.bigrams(sent)) # Funtion to generate bigrams"
   ]
  },
  {
   "cell_type": "code",
   "execution_count": 30,
   "metadata": {},
   "outputs": [],
   "source": [
    "text = nltk.corpus.genesis.words('english-kjv.txt')\n",
    "bigrams = nltk.bigrams(text)\n",
    "cfd = nltk.ConditionalFreqDist(bigrams)"
   ]
  },
  {
   "cell_type": "code",
   "execution_count": 31,
   "metadata": {},
   "outputs": [
    {
     "data": {
      "text/plain": [
       "FreqDist({'creature': 7, 'thing': 4, 'substance': 2, 'soul': 1, '.': 1, ',': 1})"
      ]
     },
     "execution_count": 31,
     "metadata": {},
     "output_type": "execute_result"
    }
   ],
   "source": [
    "cfd['living']"
   ]
  },
  {
   "cell_type": "markdown",
   "metadata": {},
   "source": [
    "#### Conditional Frequency Distribution Functions\n",
    "\n",
    "| Example                                  | Description                                                          |\n",
    "|:---------------------------------------- |:-------------------------------------------------------------------- |\n",
    "| cfdist                                   | ConditionalFreqDist(pairs) - create a conditional frequency distribution from a list of pairs |\n",
    "| cfdist.conditions()                      | the conditions                                                      |\n",
    "| cfdist[condition]                        | the frequency distribution for this condition                        |\n",
    "| cfdist[condition][sample]                | frequency for the given sample for this condition                    |\n",
    "| cfdist.tabulate()                        | tabulate the conditional frequency distribution                      |\n",
    "| cfdist.tabulate(samples, conditions)     | tabulation limited to the specified samples and conditions          |\n",
    "| cfdist.plot()                            | graphical plot of the conditional frequency distribution             |\n",
    "| cfdist.plot(samples, conditions)         | graphical plot limited to the specified samples and conditions      |\n"
   ]
  },
  {
   "cell_type": "code",
   "execution_count": 32,
   "metadata": {},
   "outputs": [
    {
     "name": "stdout",
     "output_type": "stream",
     "text": [
      "Text: english-kjv.txt lexical diversity (TTR) ==> 1.0714285714285714\n"
     ]
    }
   ],
   "source": [
    "def lexical_diversity(text):\n",
    "  return len(text) / len(set(text)) # Vocab size / Word count\n",
    "text = 'english-kjv.txt'\n",
    "print(f\"Text: {text} lexical diversity (TTR) ==> {lexical_diversity(text)}\")"
   ]
  },
  {
   "cell_type": "markdown",
   "metadata": {},
   "source": [
    "- **vocab** = sorted(set(my_text))\n",
    "\n",
    "- **word_freq** = FreqDist(my_text) \n"
   ]
  },
  {
   "cell_type": "code",
   "execution_count": 33,
   "metadata": {},
   "outputs": [],
   "source": [
    "def unusual_words(text):\n",
    "    text_vocab = set(w.lower() for w in text if w.isalpha())\n",
    "    english_vocab = set(w.lower() for w in nltk.corpus.words.words())\n",
    "    unusual = text_vocab - english_vocab\n",
    "    return sorted(unusual)"
   ]
  },
  {
   "cell_type": "code",
   "execution_count": 110,
   "metadata": {},
   "outputs": [
    {
     "data": {
      "text/plain": [
       "['abbeyland',\n",
       " 'abhorred',\n",
       " 'abilities',\n",
       " 'abounded',\n",
       " 'abridgement',\n",
       " 'abused',\n",
       " 'abuses',\n",
       " 'accents',\n",
       " 'accepting',\n",
       " 'accommodations']"
      ]
     },
     "execution_count": 110,
     "metadata": {},
     "output_type": "execute_result"
    }
   ],
   "source": [
    "unusual_words(nltk.corpus.gutenberg.words('austen-sense.txt'))[:10]"
   ]
  },
  {
   "cell_type": "code",
   "execution_count": 111,
   "metadata": {},
   "outputs": [
    {
     "data": {
      "text/plain": [
       "['aaaaaaaaaaaaaaaaa',\n",
       " 'aaahhhh',\n",
       " 'abortions',\n",
       " 'abou',\n",
       " 'abourted',\n",
       " 'abs',\n",
       " 'ack',\n",
       " 'acros',\n",
       " 'actualy',\n",
       " 'adams']"
      ]
     },
     "execution_count": 111,
     "metadata": {},
     "output_type": "execute_result"
    }
   ],
   "source": [
    "unusual_words(nltk.corpus.nps_chat.words())[:10]"
   ]
  },
  {
   "cell_type": "code",
   "execution_count": 112,
   "metadata": {},
   "outputs": [
    {
     "data": {
      "text/plain": [
       "['arabic',\n",
       " 'azerbaijani',\n",
       " 'basque',\n",
       " 'bengali',\n",
       " 'catalan',\n",
       " 'chinese',\n",
       " 'danish',\n",
       " 'dutch',\n",
       " 'english',\n",
       " 'finnish']"
      ]
     },
     "execution_count": 112,
     "metadata": {},
     "output_type": "execute_result"
    }
   ],
   "source": [
    "from nltk.corpus import stopwords\n",
    "stopwords.fileids()[:10]"
   ]
  },
  {
   "cell_type": "code",
   "execution_count": 155,
   "metadata": {},
   "outputs": [
    {
     "data": {
      "text/plain": [
       "['i', 'me', 'my', 'myself', 'we', 'our', 'ours', 'ourselves', 'you', \"you're\"]"
      ]
     },
     "execution_count": 155,
     "metadata": {},
     "output_type": "execute_result"
    }
   ],
   "source": [
    "stopwords.words('english')[:10]"
   ]
  },
  {
   "cell_type": "code",
   "execution_count": 156,
   "metadata": {},
   "outputs": [
    {
     "data": {
      "text/plain": [
       "['Abbey',\n",
       " 'Ali',\n",
       " 'Ashley',\n",
       " 'Bernie',\n",
       " 'Bobby',\n",
       " 'Cammy',\n",
       " 'Cat',\n",
       " 'Clare',\n",
       " 'Courtney',\n",
       " 'Darby']"
      ]
     },
     "execution_count": 156,
     "metadata": {},
     "output_type": "execute_result"
    }
   ],
   "source": [
    "names = nltk.corpus.names\n",
    "names.fileids()\n",
    "male_names = names.words('male.txt')\n",
    "female_names = names.words('female.txt')\n",
    "[w for w in male_names if w in female_names][:100:10] # Find gender-neutral names"
   ]
  },
  {
   "cell_type": "code",
   "execution_count": 39,
   "metadata": {},
   "outputs": [
    {
     "data": {
      "text/plain": [
       "<Axes: xlabel='Samples', ylabel='Counts'>"
      ]
     },
     "execution_count": 39,
     "metadata": {},
     "output_type": "execute_result"
    },
    {
     "data": {
      "image/png": "[encoded data removed]",
      "text/plain": [
       "<Figure size 640x480 with 1 Axes>"
      ]
     },
     "metadata": {},
     "output_type": "display_data"
    }
   ],
   "source": [
    "cfd = nltk.ConditionalFreqDist(\n",
    "  (fileid, name[-1])\n",
    "  for fileid in names.fileids()\n",
    "  for name in names.words(fileid)\n",
    ")\n",
    "\n",
    "cfd.plot()"
   ]
  },
  {
   "cell_type": "code",
   "execution_count": 123,
   "metadata": {},
   "outputs": [
    {
     "name": "stdout",
     "output_type": "stream",
     "text": [
      "('a', ['AH0'])\n",
      "('a.', ['EY1'])\n",
      "('a', ['EY1'])\n",
      "('a42128', ['EY1', 'F', 'AO1', 'R', 'T', 'UW1', 'W', 'AH1', 'N', 'T', 'UW1', 'EY1', 'T'])\n",
      "('aaa', ['T', 'R', 'IH2', 'P', 'AH0', 'L', 'EY1'])\n",
      "('aaberg', ['AA1', 'B', 'ER0', 'G'])\n",
      "('aachen', ['AA1', 'K', 'AH0', 'N'])\n",
      "('aachener', ['AA1', 'K', 'AH0', 'N', 'ER0'])\n",
      "('aaker', ['AA1', 'K', 'ER0'])\n",
      "('aalseth', ['AA1', 'L', 'S', 'EH0', 'TH'])\n"
     ]
    }
   ],
   "source": [
    "entries = nltk.corpus.cmudict.entries()\n",
    "i = 0\n",
    "\n",
    "while i < 10:\n",
    "    print(entries[i])\n",
    "    i += 1"
   ]
  },
  {
   "cell_type": "code",
   "execution_count": 41,
   "metadata": {},
   "outputs": [
    {
     "name": "stdout",
     "output_type": "stream",
     "text": [
      "pait EY1\n",
      "pat AE1\n",
      "pate EY1\n",
      "patt AE1\n",
      "peart ER1\n",
      "peat IY1\n",
      "peet IY1\n",
      "peete IY1\n",
      "pert ER1\n",
      "pet EH1\n",
      "pete IY1\n",
      "pett EH1\n",
      "piet IY1\n",
      "piette IY1\n",
      "pit IH1\n",
      "pitt IH1\n",
      "pot AA1\n",
      "pote OW1\n",
      "pott AA1\n",
      "pout AW1\n",
      "puett UW1\n",
      "purt ER1\n",
      "put UH1\n",
      "putt AH1\n"
     ]
    }
   ],
   "source": [
    "for word, pron in entries:\n",
    "  if len(pron) == 3:\n",
    "    ph1, ph2, ph3 = pron\n",
    "    if ph1 == 'P' and ph3 == 'T':\n",
    "      print(word, ph2, end='\\n')"
   ]
  },
  {
   "cell_type": "code",
   "execution_count": 124,
   "metadata": {},
   "outputs": [
    {
     "data": {
      "text/plain": [
       "[\"atlantic's\",\n",
       " 'conics',\n",
       " 'endotronics',\n",
       " 'identics',\n",
       " 'minnix',\n",
       " 'onyx',\n",
       " 'phonics',\n",
       " 'skolniks',\n",
       " \"vinick's\"]"
      ]
     },
     "execution_count": 124,
     "metadata": {},
     "output_type": "execute_result"
    }
   ],
   "source": [
    "syllabe = ['N', 'IH0', 'K', 'S']\n",
    "[word for word, pron in entries if pron[-4:] == syllabe][:100:10]"
   ]
  },
  {
   "cell_type": "code",
   "execution_count": 43,
   "metadata": {},
   "outputs": [],
   "source": [
    "def stress(pron):\n",
    "     return [char for phone in pron for char in phone if char.isdigit()]"
   ]
  },
  {
   "cell_type": "code",
   "execution_count": 127,
   "metadata": {},
   "outputs": [
    {
     "data": {
      "text/plain": [
       "['abbreviated',\n",
       " 'accommodating',\n",
       " 'adjudicating',\n",
       " 'affiliated',\n",
       " \"amalgamated's\",\n",
       " 'antagonisms',\n",
       " 'appreciative',\n",
       " 'asphyxiating',\n",
       " 'attenuated',\n",
       " 'catholicism']"
      ]
     },
     "execution_count": 127,
     "metadata": {},
     "output_type": "execute_result"
    }
   ],
   "source": [
    "[w for w, pron in entries if stress(pron) == ['0', '1', '0', '2', '0']][:100:10]"
   ]
  },
  {
   "cell_type": "code",
   "execution_count": 128,
   "metadata": {},
   "outputs": [
    {
     "data": {
      "text/plain": [
       "['abbreviation',\n",
       " 'accumulation',\n",
       " 'adulteration',\n",
       " 'amelioration',\n",
       " 'anticipation',\n",
       " 'aristocratic',\n",
       " 'authentication',\n",
       " 'capitulation',\n",
       " \"communications'\",\n",
       " 'congratulations']"
      ]
     },
     "execution_count": 128,
     "metadata": {},
     "output_type": "execute_result"
    }
   ],
   "source": [
    "[w for w, pron in entries if stress(pron) == ['0', '2', '0', '1', '0']][:100:10]"
   ]
  },
  {
   "cell_type": "code",
   "execution_count": 46,
   "metadata": {},
   "outputs": [
    {
     "data": {
      "text/plain": [
       "[['F', 'AY1', 'ER0'], ['F', 'AY1', 'R']]"
      ]
     },
     "execution_count": 46,
     "metadata": {},
     "output_type": "execute_result"
    }
   ],
   "source": [
    "prondict = nltk.corpus.cmudict.dict()\n",
    "prondict['fire']"
   ]
  },
  {
   "cell_type": "code",
   "execution_count": 129,
   "metadata": {},
   "outputs": [
    {
     "data": {
      "text/plain": [
       "['N', 'W', 'NG']"
      ]
     },
     "execution_count": 129,
     "metadata": {},
     "output_type": "execute_result"
    }
   ],
   "source": [
    "text = ['natural', 'language', 'processing']\n",
    "[ph for w in text for ph in prondict[w][0]][:100:10]"
   ]
  },
  {
   "cell_type": "code",
   "execution_count": 131,
   "metadata": {},
   "outputs": [
    {
     "data": {
      "text/plain": [
       "['be', 'cu', 'hr', 'pl', 'sl']"
      ]
     },
     "execution_count": 131,
     "metadata": {},
     "output_type": "execute_result"
    }
   ],
   "source": [
    "from nltk.corpus import swadesh\n",
    "swadesh.fileids()[:50:5]"
   ]
  },
  {
   "cell_type": "code",
   "execution_count": 132,
   "metadata": {},
   "outputs": [
    {
     "data": {
      "text/plain": [
       "['I',\n",
       " 'who',\n",
       " 'other',\n",
       " 'heavy',\n",
       " 'husband',\n",
       " 'tree',\n",
       " 'rope',\n",
       " 'hair',\n",
       " 'leg',\n",
       " 'liver']"
      ]
     },
     "execution_count": 132,
     "metadata": {},
     "output_type": "execute_result"
    }
   ],
   "source": [
    "swadesh.words('en')[:100:10]"
   ]
  },
  {
   "cell_type": "code",
   "execution_count": 133,
   "metadata": {},
   "outputs": [
    {
     "data": {
      "text/plain": [
       "[('je', 'I'),\n",
       " ('qui', 'who'),\n",
       " ('autre', 'other'),\n",
       " ('lourd', 'heavy'),\n",
       " ('mari, époux', 'husband'),\n",
       " ('arbre', 'tree'),\n",
       " ('corde', 'rope'),\n",
       " ('cheveu', 'hair'),\n",
       " ('jambe', 'leg'),\n",
       " ('foie', 'liver')]"
      ]
     },
     "execution_count": 133,
     "metadata": {},
     "output_type": "execute_result"
    }
   ],
   "source": [
    "fr2en = swadesh.entries(['fr', 'en'])\n",
    "fr2en[:100:10]"
   ]
  },
  {
   "cell_type": "code",
   "execution_count": 51,
   "metadata": {},
   "outputs": [],
   "source": [
    "translate = dict(fr2en)"
   ]
  },
  {
   "cell_type": "code",
   "execution_count": 52,
   "metadata": {},
   "outputs": [
    {
     "data": {
      "text/plain": [
       "'dog'"
      ]
     },
     "execution_count": 52,
     "metadata": {},
     "output_type": "execute_result"
    }
   ],
   "source": [
    "translate['chien']"
   ]
  },
  {
   "cell_type": "code",
   "execution_count": 53,
   "metadata": {},
   "outputs": [
    {
     "data": {
      "text/plain": [
       "'throw'"
      ]
     },
     "execution_count": 53,
     "metadata": {},
     "output_type": "execute_result"
    }
   ],
   "source": [
    "translate['jeter']"
   ]
  },
  {
   "cell_type": "code",
   "execution_count": 54,
   "metadata": {},
   "outputs": [
    {
     "data": {
      "text/plain": [
       "174"
      ]
     },
     "execution_count": 54,
     "metadata": {},
     "output_type": "execute_result"
    }
   ],
   "source": [
    "languages = ['en', 'de', 'nl', 'es', 'fr', 'pt', 'la']\n",
    "len(swadesh.entries())"
   ]
  },
  {
   "cell_type": "code",
   "execution_count": 55,
   "metadata": {},
   "outputs": [
    {
     "name": "stdout",
     "output_type": "stream",
     "text": [
      "('say', 'sagen', 'zeggen', 'decir', 'dire', 'dizer', 'dicere')\n",
      "('sing', 'singen', 'zingen', 'cantar', 'chanter', 'cantar', 'canere')\n",
      "('white', 'weiß', 'wit', 'blanco', 'blanc', 'branco', 'albus, candidus')\n",
      "('what', 'was', 'wat', 'que', 'quoi', 'que, o que', 'quid')\n",
      "('cold', 'kalt', 'koud', 'frío', 'froid', 'frio, frígido', 'frigidus')\n",
      "('at', 'bei, an', 'aan, te, bij', 'a, en, ante', 'à', 'a, em', 'ad')\n"
     ]
    }
   ],
   "source": [
    "for i in [139, 140, 174, 11, 180, 200]:\n",
    "  print(swadesh.entries(languages)[i])"
   ]
  },
  {
   "cell_type": "code",
   "execution_count": 56,
   "metadata": {},
   "outputs": [
    {
     "data": {
      "text/plain": [
       "[Synset('car.n.01')]"
      ]
     },
     "execution_count": 56,
     "metadata": {},
     "output_type": "execute_result"
    }
   ],
   "source": [
    "from nltk.corpus import wordnet as wn\n",
    "wn.synsets('motorcar')"
   ]
  },
  {
   "cell_type": "code",
   "execution_count": 57,
   "metadata": {},
   "outputs": [
    {
     "data": {
      "text/plain": [
       "['car', 'auto', 'automobile', 'machine', 'motorcar']"
      ]
     },
     "execution_count": 57,
     "metadata": {},
     "output_type": "execute_result"
    }
   ],
   "source": [
    "wn.synset('car.n.01').lemma_names()"
   ]
  },
  {
   "cell_type": "code",
   "execution_count": 58,
   "metadata": {},
   "outputs": [
    {
     "data": {
      "text/plain": [
       "'a motor vehicle with four wheels; usually propelled by an internal combustion engine'"
      ]
     },
     "execution_count": 58,
     "metadata": {},
     "output_type": "execute_result"
    }
   ],
   "source": [
    "wn.synset('car.n.01').definition()"
   ]
  },
  {
   "cell_type": "code",
   "execution_count": 59,
   "metadata": {},
   "outputs": [
    {
     "data": {
      "text/plain": [
       "['he needs a car to get to work']"
      ]
     },
     "execution_count": 59,
     "metadata": {},
     "output_type": "execute_result"
    }
   ],
   "source": [
    "wn.synset('car.n.01').examples()"
   ]
  },
  {
   "cell_type": "code",
   "execution_count": 60,
   "metadata": {},
   "outputs": [
    {
     "data": {
      "text/plain": [
       "[Lemma('car.n.01.car'),\n",
       " Lemma('car.n.01.auto'),\n",
       " Lemma('car.n.01.automobile'),\n",
       " Lemma('car.n.01.machine'),\n",
       " Lemma('car.n.01.motorcar')]"
      ]
     },
     "execution_count": 60,
     "metadata": {},
     "output_type": "execute_result"
    }
   ],
   "source": [
    "wn.synset('car.n.01').lemmas()"
   ]
  },
  {
   "cell_type": "code",
   "execution_count": 61,
   "metadata": {},
   "outputs": [
    {
     "data": {
      "text/plain": [
       "Lemma('car.n.01.automobile')"
      ]
     },
     "execution_count": 61,
     "metadata": {},
     "output_type": "execute_result"
    }
   ],
   "source": [
    "wn.lemma('car.n.01.automobile')"
   ]
  },
  {
   "cell_type": "code",
   "execution_count": 62,
   "metadata": {},
   "outputs": [
    {
     "data": {
      "text/plain": [
       "Synset('car.n.01')"
      ]
     },
     "execution_count": 62,
     "metadata": {},
     "output_type": "execute_result"
    }
   ],
   "source": [
    "wn.lemma('car.n.01.automobile').synset()"
   ]
  },
  {
   "cell_type": "code",
   "execution_count": 63,
   "metadata": {},
   "outputs": [
    {
     "data": {
      "text/plain": [
       "'automobile'"
      ]
     },
     "execution_count": 63,
     "metadata": {},
     "output_type": "execute_result"
    }
   ],
   "source": [
    "wn.lemma('car.n.01.automobile').name()"
   ]
  },
  {
   "cell_type": "code",
   "execution_count": 64,
   "metadata": {},
   "outputs": [
    {
     "data": {
      "text/plain": [
       "[Synset('car.n.01'),\n",
       " Synset('car.n.02'),\n",
       " Synset('car.n.03'),\n",
       " Synset('car.n.04'),\n",
       " Synset('cable_car.n.01')]"
      ]
     },
     "execution_count": 64,
     "metadata": {},
     "output_type": "execute_result"
    }
   ],
   "source": [
    "wn.synsets('car')"
   ]
  },
  {
   "cell_type": "code",
   "execution_count": 65,
   "metadata": {},
   "outputs": [
    {
     "name": "stdout",
     "output_type": "stream",
     "text": [
      "['car', 'auto', 'automobile', 'machine', 'motorcar']\n",
      "['car', 'railcar', 'railway_car', 'railroad_car']\n",
      "['car', 'gondola']\n",
      "['car', 'elevator_car']\n",
      "['cable_car', 'car']\n"
     ]
    }
   ],
   "source": [
    "for synset in wn.synsets('car'):\n",
    "  print(synset.lemma_names())"
   ]
  },
  {
   "cell_type": "code",
   "execution_count": 66,
   "metadata": {},
   "outputs": [
    {
     "data": {
      "text/plain": [
       "[Lemma('car.n.01.car'),\n",
       " Lemma('car.n.02.car'),\n",
       " Lemma('car.n.03.car'),\n",
       " Lemma('car.n.04.car'),\n",
       " Lemma('cable_car.n.01.car')]"
      ]
     },
     "execution_count": 66,
     "metadata": {},
     "output_type": "execute_result"
    }
   ],
   "source": [
    "wn.lemmas('car')"
   ]
  },
  {
   "cell_type": "code",
   "execution_count": 134,
   "metadata": {},
   "outputs": [
    {
     "data": {
      "text/plain": [
       "['Model_T',\n",
       " 'compact_car',\n",
       " 'hardtop',\n",
       " 'limousine',\n",
       " 'race_car',\n",
       " 'sport_utility_vehicle',\n",
       " 'tourer']"
      ]
     },
     "execution_count": 134,
     "metadata": {},
     "output_type": "execute_result"
    }
   ],
   "source": [
    "motorcar = wn.synset('car.n.01')\n",
    "motorcar_types = motorcar.hyponyms()\n",
    "sorted(lemma.name() for synset in motorcar_types for lemma in synset.lemmas())[:100:10]"
   ]
  },
  {
   "cell_type": "code",
   "execution_count": 68,
   "metadata": {},
   "outputs": [
    {
     "data": {
      "text/plain": [
       "2"
      ]
     },
     "execution_count": 68,
     "metadata": {},
     "output_type": "execute_result"
    }
   ],
   "source": [
    "paths = motorcar.hypernym_paths()\n",
    "len(paths)"
   ]
  },
  {
   "cell_type": "code",
   "execution_count": 69,
   "metadata": {},
   "outputs": [
    {
     "data": {
      "text/plain": [
       "['entity.n.01',\n",
       " 'physical_entity.n.01',\n",
       " 'object.n.01',\n",
       " 'whole.n.02',\n",
       " 'artifact.n.01',\n",
       " 'instrumentality.n.03',\n",
       " 'conveyance.n.03',\n",
       " 'vehicle.n.01',\n",
       " 'wheeled_vehicle.n.01',\n",
       " 'self-propelled_vehicle.n.01',\n",
       " 'motor_vehicle.n.01',\n",
       " 'car.n.01']"
      ]
     },
     "execution_count": 69,
     "metadata": {},
     "output_type": "execute_result"
    }
   ],
   "source": [
    "[synset.name() for synset in paths[0]]"
   ]
  },
  {
   "cell_type": "code",
   "execution_count": 70,
   "metadata": {},
   "outputs": [
    {
     "data": {
      "text/plain": [
       "['entity.n.01',\n",
       " 'physical_entity.n.01',\n",
       " 'object.n.01',\n",
       " 'whole.n.02',\n",
       " 'artifact.n.01',\n",
       " 'instrumentality.n.03',\n",
       " 'container.n.01',\n",
       " 'wheeled_vehicle.n.01',\n",
       " 'self-propelled_vehicle.n.01',\n",
       " 'motor_vehicle.n.01',\n",
       " 'car.n.01']"
      ]
     },
     "execution_count": 70,
     "metadata": {},
     "output_type": "execute_result"
    }
   ],
   "source": [
    "[synset.name() for synset in paths[1]]"
   ]
  },
  {
   "cell_type": "code",
   "execution_count": 71,
   "metadata": {},
   "outputs": [
    {
     "data": {
      "text/plain": [
       "[Synset('entity.n.01')]"
      ]
     },
     "execution_count": 71,
     "metadata": {},
     "output_type": "execute_result"
    }
   ],
   "source": [
    "motorcar.root_hypernyms()"
   ]
  },
  {
   "cell_type": "code",
   "execution_count": 72,
   "metadata": {},
   "outputs": [
    {
     "data": {
      "text/plain": [
       "[Synset('crown.n.07'),\n",
       " Synset('burl.n.02'),\n",
       " Synset('limb.n.02'),\n",
       " Synset('trunk.n.01'),\n",
       " Synset('stump.n.01')]"
      ]
     },
     "execution_count": 72,
     "metadata": {},
     "output_type": "execute_result"
    }
   ],
   "source": [
    "wn.synset('tree.n.01').part_meronyms()"
   ]
  },
  {
   "cell_type": "code",
   "execution_count": 73,
   "metadata": {},
   "outputs": [
    {
     "data": {
      "text/plain": [
       "[Synset('heartwood.n.01'), Synset('sapwood.n.01')]"
      ]
     },
     "execution_count": 73,
     "metadata": {},
     "output_type": "execute_result"
    }
   ],
   "source": [
    "wn.synset('tree.n.01').substance_meronyms()"
   ]
  },
  {
   "cell_type": "code",
   "execution_count": 74,
   "metadata": {},
   "outputs": [
    {
     "data": {
      "text/plain": [
       "[Synset('forest.n.01')]"
      ]
     },
     "execution_count": 74,
     "metadata": {},
     "output_type": "execute_result"
    }
   ],
   "source": [
    "wn.synset('tree.n.01').member_holonyms()"
   ]
  },
  {
   "cell_type": "code",
   "execution_count": 75,
   "metadata": {},
   "outputs": [
    {
     "name": "stdout",
     "output_type": "stream",
     "text": [
      "batch.n.02: (often followed by `of') a large number or amount or extent\n",
      "mint.n.02: any north temperate plant of the genus Mentha with aromatic leaves and small mauve flowers\n",
      "mint.n.03: any member of the mint family of plants\n",
      "mint.n.04: the leaves of a mint plant used fresh or candied\n",
      "mint.n.05: a candy that is flavored with a mint oil\n",
      "mint.n.06: a plant where money is coined by authority of the government\n"
     ]
    }
   ],
   "source": [
    "for synset in wn.synsets('mint', wn.NOUN):\n",
    "  print(synset.name() + ':', synset.definition())"
   ]
  },
  {
   "cell_type": "code",
   "execution_count": 76,
   "metadata": {},
   "outputs": [
    {
     "data": {
      "text/plain": [
       "[Synset('mint.n.02')]"
      ]
     },
     "execution_count": 76,
     "metadata": {},
     "output_type": "execute_result"
    }
   ],
   "source": [
    "wn.synset('mint.n.04').part_holonyms()"
   ]
  },
  {
   "cell_type": "code",
   "execution_count": 77,
   "metadata": {},
   "outputs": [
    {
     "data": {
      "text/plain": [
       "[Synset('mint.n.05')]"
      ]
     },
     "execution_count": 77,
     "metadata": {},
     "output_type": "execute_result"
    }
   ],
   "source": [
    "wn.synset('mint.n.04').substance_holonyms()"
   ]
  },
  {
   "cell_type": "code",
   "execution_count": 78,
   "metadata": {},
   "outputs": [
    {
     "data": {
      "text/plain": [
       "[Synset('step.v.01')]"
      ]
     },
     "execution_count": 78,
     "metadata": {},
     "output_type": "execute_result"
    }
   ],
   "source": [
    "wn.synset('walk.v.01').entailments()"
   ]
  },
  {
   "cell_type": "code",
   "execution_count": 79,
   "metadata": {},
   "outputs": [
    {
     "data": {
      "text/plain": [
       "[Lemma('demand.n.02.demand')]"
      ]
     },
     "execution_count": 79,
     "metadata": {},
     "output_type": "execute_result"
    }
   ],
   "source": [
    "wn.lemma('supply.n.02.supply').antonyms()"
   ]
  },
  {
   "cell_type": "code",
   "execution_count": 80,
   "metadata": {},
   "outputs": [],
   "source": [
    "right = wn.synset('right_whale.n.01')\n",
    "orca = wn.synset('orca.n.01')\n",
    "minke = wn.synset('minke_whale.n.01')\n",
    "tortoise = wn.synset('tortoise.n.01')\n",
    "novel = wn.synset('novel.n.01')"
   ]
  },
  {
   "cell_type": "code",
   "execution_count": 81,
   "metadata": {},
   "outputs": [
    {
     "data": {
      "text/plain": [
       "[Synset('baleen_whale.n.01')]"
      ]
     },
     "execution_count": 81,
     "metadata": {},
     "output_type": "execute_result"
    }
   ],
   "source": [
    "right.lowest_common_hypernyms(minke)"
   ]
  },
  {
   "cell_type": "code",
   "execution_count": 82,
   "metadata": {},
   "outputs": [
    {
     "data": {
      "text/plain": [
       "[Synset('whale.n.02')]"
      ]
     },
     "execution_count": 82,
     "metadata": {},
     "output_type": "execute_result"
    }
   ],
   "source": [
    "right.lowest_common_hypernyms(orca)"
   ]
  },
  {
   "cell_type": "code",
   "execution_count": 83,
   "metadata": {},
   "outputs": [
    {
     "data": {
      "text/plain": [
       "[Synset('vertebrate.n.01')]"
      ]
     },
     "execution_count": 83,
     "metadata": {},
     "output_type": "execute_result"
    }
   ],
   "source": [
    "right.lowest_common_hypernyms(tortoise)"
   ]
  },
  {
   "cell_type": "code",
   "execution_count": 84,
   "metadata": {},
   "outputs": [
    {
     "data": {
      "text/plain": [
       "[Synset('entity.n.01')]"
      ]
     },
     "execution_count": 84,
     "metadata": {},
     "output_type": "execute_result"
    }
   ],
   "source": [
    "right.lowest_common_hypernyms(novel)"
   ]
  },
  {
   "cell_type": "code",
   "execution_count": 85,
   "metadata": {},
   "outputs": [
    {
     "data": {
      "text/plain": [
       "14"
      ]
     },
     "execution_count": 85,
     "metadata": {},
     "output_type": "execute_result"
    }
   ],
   "source": [
    "wn.synset('baleen_whale.n.01').min_depth()"
   ]
  },
  {
   "cell_type": "code",
   "execution_count": 86,
   "metadata": {},
   "outputs": [
    {
     "data": {
      "text/plain": [
       "13"
      ]
     },
     "execution_count": 86,
     "metadata": {},
     "output_type": "execute_result"
    }
   ],
   "source": [
    "wn.synset('whale.n.02').min_depth()"
   ]
  },
  {
   "cell_type": "code",
   "execution_count": 87,
   "metadata": {},
   "outputs": [
    {
     "data": {
      "text/plain": [
       "8"
      ]
     },
     "execution_count": 87,
     "metadata": {},
     "output_type": "execute_result"
    }
   ],
   "source": [
    "wn.synset('vertebrate.n.01').min_depth()"
   ]
  },
  {
   "cell_type": "code",
   "execution_count": 88,
   "metadata": {},
   "outputs": [
    {
     "data": {
      "text/plain": [
       "0"
      ]
     },
     "execution_count": 88,
     "metadata": {},
     "output_type": "execute_result"
    }
   ],
   "source": [
    "wn.synset('entity.n.01').min_depth()"
   ]
  }
 ],
 "metadata": {
  "kernelspec": {
   "display_name": "venv",
   "language": "python",
   "name": "python3"
  },
  "language_info": {
   "codemirror_mode": {
    "name": "ipython",
    "version": 3
   },
   "file_extension": ".py",
   "mimetype": "text/x-python",
   "name": "python",
   "nbconvert_exporter": "python",
   "pygments_lexer": "ipython3",
   "version": "3.12.3"
  }
 },
 "nbformat": 4,
 "nbformat_minor": 2
}
